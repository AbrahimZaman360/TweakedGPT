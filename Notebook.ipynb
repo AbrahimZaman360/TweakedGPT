{
  "cells": [
    {
      "cell_type": "code",
      "execution_count": null,
      "metadata": {
        "id": "ybgX3GcHjMqG"
      },
      "outputs": [],
      "source": [
        "import os\n",
        "\n",
        "# Envirnoment Variables:\n",
        "os.environ['PERSIST_DIRECTORY'] = 'db'\n",
        "os.environ['EMBEDDINGS_MODEL_NAME'] = 'all-MiniLM-L6-v2'\n",
        "os.environ['MODEL_N_CTX'] = '1000'"
      ]
    },
    {
      "cell_type": "code",
      "execution_count": null,
      "metadata": {
        "id": "In-AZCVmvieI"
      },
      "outputs": [],
      "source": [
        "# Install Requirements: (There's no need to run Again if Ran Already from Readme) \n",
        "!pip install -r requirements.txt\n",
        "\n",
        "# Note by Ibrahim Zaman:\n",
        "# it's forked from PrivateGPT Github Repo:\n",
        "!pip -q install git+https://github.com/huggingface/transformers # need to install from github\n",
        "!pip install -q datasets loralib sentencepiece \n",
        "!pip install -q -U git+https://github.com/huggingface/peft.git\n",
        "!pip install llama-cpp-python\n",
        "!pip -q install bitsandbytes accelerate python-telegram-bot xformers\n",
        "!pip -q install langchain\n"
      ]
    },
    {
      "cell_type": "code",
      "execution_count": null,
      "metadata": {
        "id": "as1_-fxBkeCd"
      },
      "outputs": [],
      "source": [
        "!python3 constants.py"
      ]
    },
    {
      "cell_type": "code",
      "execution_count": null,
      "metadata": {
        "colab": {
          "base_uri": "https://localhost:8080/"
        },
        "id": "hEkC5SAgzjy_",
        "outputId": "ecd14017-fcf0-48f1-e4c4-1003a571d6ab"
      },
      "outputs": [],
      "source": [
        "!python3 ingest.py"
      ]
    },
    {
      "cell_type": "code",
      "execution_count": null,
      "metadata": {
        "colab": {
          "base_uri": "https://localhost:8080/"
        },
        "id": "FafPUrqpzlZa",
        "outputId": "a1b1d11e-ef73-47cc-b76e-ee7590600b94"
      },
      "outputs": [],
      "source": [
        "!python3 main.py"
      ]
    }
  ],
  "metadata": {
    "accelerator": "GPU",
    "colab": {
      "provenance": []
    },
    "gpuClass": "standard",
    "kernelspec": {
      "display_name": "Python 3",
      "name": "python3"
    },
    "language_info": {
      "name": "python"
    }
  },
  "nbformat": 4,
  "nbformat_minor": 0
}
